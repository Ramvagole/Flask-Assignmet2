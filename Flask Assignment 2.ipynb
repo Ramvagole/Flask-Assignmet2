{
 "cells": [
  {
   "cell_type": "code",
   "execution_count": null,
   "id": "0481f07d-5997-4f9a-81df-26e77bc14870",
   "metadata": {},
   "outputs": [],
   "source": [
    "#Q1):-\n",
    "This is because the GET method sends data through the resource URL, which is limited in length, \n",
    "while the POST method sends data through the HTTP message body, which has no such limitation."
   ]
  },
  {
   "cell_type": "code",
   "execution_count": null,
   "id": "0e3b5876-e87d-428a-9ef6-c8b07973e3a8",
   "metadata": {},
   "outputs": [],
   "source": [
    "#Q2):-\n",
    "To access incomeing data from post method and get method"
   ]
  },
  {
   "cell_type": "code",
   "execution_count": null,
   "id": "82494401-6fb5-495a-abf1-aff6633af602",
   "metadata": {},
   "outputs": [],
   "source": [
    "#Q3):-\n",
    "Redirection in Flask can be done by returning a redirect response object, created by invoking the redirect() function.\n",
    "The same method is used for redirecting to other routes on the same application and external websites."
   ]
  },
  {
   "cell_type": "code",
   "execution_count": null,
   "id": "edeae59e-c7ac-4e63-ad7c-6c3ca925a394",
   "metadata": {},
   "outputs": [],
   "source": [
    "#Q4):-\n",
    "Templates are files that contain static data as well as placeholders for dynamic data.\n",
    "\n",
    "render_template is used to generate output from a template file based on the Jinja2 engine that is found in the application's templates folder."
   ]
  },
  {
   "cell_type": "code",
   "execution_count": null,
   "id": "33298072-b76a-4fa8-be54-b5f5d03612ec",
   "metadata": {},
   "outputs": [],
   "source": [
    "#Q5):-\n",
    "from flask import Flask,request,jsonify\n",
    "app=Flask(__name__)\n",
    "@app.route(\"/postman_data\", methods=[\"GET\",\"POST\"])\n",
    "def math_op():\n",
    "    a=int(request.json[\"a\"])\n",
    "    b=int(request.json[\"b\"])\n",
    "    c=a+b\n",
    "    return jsonify(c)\n",
    "if __name__==\"__main__\":\n",
    "    app.run()"
   ]
  }
 ],
 "metadata": {
  "kernelspec": {
   "display_name": "Python 3 (ipykernel)",
   "language": "python",
   "name": "python3"
  },
  "language_info": {
   "codemirror_mode": {
    "name": "ipython",
    "version": 3
   },
   "file_extension": ".py",
   "mimetype": "text/x-python",
   "name": "python",
   "nbconvert_exporter": "python",
   "pygments_lexer": "ipython3",
   "version": "3.10.8"
  }
 },
 "nbformat": 4,
 "nbformat_minor": 5
}
